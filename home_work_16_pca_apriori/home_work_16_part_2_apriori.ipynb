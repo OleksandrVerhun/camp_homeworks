{
 "cells": [
  {
   "cell_type": "markdown",
   "metadata": {},
   "source": [
    "### Mine top 10 association rules worth recommending for [Groceries dataset](https://www.kaggle.com/heeraldedhia/groceries-dataset)"
   ]
  },
  {
   "cell_type": "code",
   "execution_count": 11,
   "metadata": {},
   "outputs": [
    {
     "data": {
      "text/html": [
       "<div>\n",
       "<style scoped>\n",
       "    .dataframe tbody tr th:only-of-type {\n",
       "        vertical-align: middle;\n",
       "    }\n",
       "\n",
       "    .dataframe tbody tr th {\n",
       "        vertical-align: top;\n",
       "    }\n",
       "\n",
       "    .dataframe thead th {\n",
       "        text-align: right;\n",
       "    }\n",
       "</style>\n",
       "<table border=\"1\" class=\"dataframe\">\n",
       "  <thead>\n",
       "    <tr style=\"text-align: right;\">\n",
       "      <th></th>\n",
       "      <th>Member_number</th>\n",
       "      <th>Date</th>\n",
       "      <th>itemDescription</th>\n",
       "    </tr>\n",
       "  </thead>\n",
       "  <tbody>\n",
       "    <tr>\n",
       "      <th>0</th>\n",
       "      <td>1808</td>\n",
       "      <td>21-07-2015</td>\n",
       "      <td>tropical fruit</td>\n",
       "    </tr>\n",
       "    <tr>\n",
       "      <th>1</th>\n",
       "      <td>2552</td>\n",
       "      <td>05-01-2015</td>\n",
       "      <td>whole milk</td>\n",
       "    </tr>\n",
       "    <tr>\n",
       "      <th>2</th>\n",
       "      <td>2300</td>\n",
       "      <td>19-09-2015</td>\n",
       "      <td>pip fruit</td>\n",
       "    </tr>\n",
       "    <tr>\n",
       "      <th>3</th>\n",
       "      <td>1187</td>\n",
       "      <td>12-12-2015</td>\n",
       "      <td>other vegetables</td>\n",
       "    </tr>\n",
       "    <tr>\n",
       "      <th>4</th>\n",
       "      <td>3037</td>\n",
       "      <td>01-02-2015</td>\n",
       "      <td>whole milk</td>\n",
       "    </tr>\n",
       "  </tbody>\n",
       "</table>\n",
       "</div>"
      ],
      "text/plain": [
       "   Member_number        Date   itemDescription\n",
       "0           1808  21-07-2015    tropical fruit\n",
       "1           2552  05-01-2015        whole milk\n",
       "2           2300  19-09-2015         pip fruit\n",
       "3           1187  12-12-2015  other vegetables\n",
       "4           3037  01-02-2015        whole milk"
      ]
     },
     "execution_count": 11,
     "metadata": {},
     "output_type": "execute_result"
    }
   ],
   "source": [
    "import pandas as pd\n",
    "import matplotlib.pyplot as plt\n",
    "from apyori import apriori\n",
    "\n",
    "df = pd.read_csv('Groceries_dataset.csv')\n",
    "df.head()"
   ]
  },
  {
   "cell_type": "code",
   "execution_count": 12,
   "metadata": {},
   "outputs": [
    {
     "data": {
      "text/plain": [
       "38765"
      ]
     },
     "execution_count": 12,
     "metadata": {},
     "output_type": "execute_result"
    }
   ],
   "source": [
    "len(df)"
   ]
  },
  {
   "cell_type": "code",
   "execution_count": 13,
   "metadata": {},
   "outputs": [
    {
     "data": {
      "text/plain": [
       "(array([1.008e+04, 2.698e+03, 1.390e+03, 3.440e+02, 1.750e+02, 8.000e+01,\n",
       "        1.450e+02, 5.000e+01, 0.000e+00, 1.000e+00]),\n",
       " array([ 2. ,  2.9,  3.8,  4.7,  5.6,  6.5,  7.4,  8.3,  9.2, 10.1, 11. ]),\n",
       " <BarContainer object of 10 artists>)"
      ]
     },
     "execution_count": 13,
     "metadata": {},
     "output_type": "execute_result"
    },
    {
     "data": {
      "image/png": "[encoded data removed]",
      "text/plain": [
       "<Figure size 640x480 with 1 Axes>"
      ]
     },
     "metadata": {},
     "output_type": "display_data"
    }
   ],
   "source": [
    "dist = [len(g) for k, g in df.groupby(['Member_number', 'Date'])]\n",
    "plt.hist(dist)"
   ]
  },
  {
   "cell_type": "code",
   "execution_count": 24,
   "metadata": {},
   "outputs": [
    {
     "name": "stdout",
     "output_type": "stream",
     "text": [
      "Rule 1:\n",
      "  Items: other vegetables\n",
      "  Base Items: \n",
      "  Support: 0.12210\n",
      "  Confidence: 0.12210\n",
      "Rule 2:\n",
      "  Items: rolls/buns\n",
      "  Base Items: \n",
      "  Support: 0.11000\n",
      "  Confidence: 0.11000\n",
      "Rule 3:\n",
      "  Items: whole milk\n",
      "  Base Items: \n",
      "  Support: 0.15792\n",
      "  Confidence: 0.15792\n",
      "Rule 4:\n",
      "  Items: UHT-milk, other vegetables\n",
      "  Base Items: UHT-milk\n",
      "  Support: 0.00214\n",
      "  Confidence: 0.10000\n",
      "Rule 5:\n",
      "  Items: whole milk, UHT-milk\n",
      "  Base Items: UHT-milk\n",
      "  Support: 0.00254\n",
      "  Confidence: 0.11875\n",
      "Rule 6:\n",
      "  Items: beef, whole milk\n",
      "  Base Items: beef\n",
      "  Support: 0.00468\n",
      "  Confidence: 0.13780\n",
      "Rule 7:\n",
      "  Items: berries, other vegetables\n",
      "  Base Items: berries\n",
      "  Support: 0.00267\n",
      "  Confidence: 0.12270\n",
      "Rule 8:\n",
      "  Items: berries, whole milk\n",
      "  Base Items: berries\n",
      "  Support: 0.00227\n",
      "  Confidence: 0.10429\n",
      "Rule 9:\n",
      "  Items: beverages, other vegetables\n",
      "  Base Items: beverages\n",
      "  Support: 0.00174\n",
      "  Confidence: 0.10484\n",
      "Rule 10:\n",
      "  Items: beverages, soda\n",
      "  Base Items: beverages\n",
      "  Support: 0.00187\n",
      "  Confidence: 0.11290\n"
     ]
    }
   ],
   "source": [
    "transactions = df.groupby(['Member_number', 'Date'])['itemDescription'].apply(list).tolist()\n",
    "\n",
    "min_support = 0.001\n",
    "min_confidence = 0.1 \n",
    "rules = apriori(transactions, min_support=min_support, min_confidence=min_confidence)\n",
    "\n",
    "top_10_rules = list(rules)[:10]\n",
    "for i, rule in enumerate(top_10_rules, 1):\n",
    "    items = ', '.join(rule.items)\n",
    "    base_items = ', '.join(rule.ordered_statistics[0].items_base)\n",
    "    support = rule.support\n",
    "    confidence = rule.ordered_statistics[0].confidence\n",
    "\n",
    "    print(f\"Rule {i}:\")\n",
    "    print(f\"  Items: {items}\")\n",
    "    print(f\"  Base Items: {base_items}\")\n",
    "    print(f\"  Support: {support:.5f}\")\n",
    "    print(f\"  Confidence: {confidence:.5f}\")"
   ]
  }
 ],
 "metadata": {
  "kernelspec": {
   "display_name": "Python 3",
   "language": "python",
   "name": "python3"
  },
  "language_info": {
   "codemirror_mode": {
    "name": "ipython",
    "version": 3
   },
   "file_extension": ".py",
   "mimetype": "text/x-python",
   "name": "python",
   "nbconvert_exporter": "python",
   "pygments_lexer": "ipython3",
   "version": "3.12.0"
  }
 },
 "nbformat": 4,
 "nbformat_minor": 2
}
