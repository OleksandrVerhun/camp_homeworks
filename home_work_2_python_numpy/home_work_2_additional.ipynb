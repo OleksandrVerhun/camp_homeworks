{
 "cells": [
  {
   "cell_type": "markdown",
   "metadata": {},
   "source": [
    "```\n",
    "There are two whole numbers:\n",
    "1 < a,b <100\n",
    "\n",
    "One scientist(\"Sum\") get provided with sum of numbers,\n",
    "another  (\"Prod\") get provided with product of numbers. \n",
    "Both scientists know that numbers 1 < a,b <100.\n",
    "\n",
    "Determine the numbers being based on the following dialog: \n",
    "    Prod: I don't know the numbers;\n",
    "    Sum: I know it;\n",
    "    Prod: then I know the numbers; \n",
    "    Sum: then I know the numbers too.\n",
    "```"
   ]
  },
  {
   "cell_type": "code",
   "execution_count": 2,
   "metadata": {},
   "outputs": [
    {
     "name": "stdout",
     "output_type": "stream",
     "text": [
      "Sum = 17\n",
      "Prod = 52\n",
      "a = 4\n",
      "b = 13\n"
     ]
    }
   ],
   "source": [
    "\n",
    "limit = 100\n",
    "# any a*b where 1<a<b<a+b<limit is allowed as P\n",
    "ProdAllowed1 = {} \n",
    "for a in range(2, limit): \n",
    "    for b in range(a+1, limit-a): \n",
    "        if a*b not in ProdAllowed1: \n",
    "            ProdAllowed1[a*b] = 1 \n",
    "        else:\n",
    "            ProdAllowed1[a*b] += 1\n",
    "\n",
    "\n",
    "# only P with PAllowed1[P]>1 are allowed\n",
    "SumNotAllowed = {}  \n",
    "for a in range(2, limit): \n",
    "    for b in range(a+1, limit-a): \n",
    "        if  ProdAllowed1[a*b] == 1 :\n",
    "            SumNotAllowed[a+b] = 1  \n",
    "\n",
    "\n",
    "# only those S are allowed that lie in the plane SNotAllowed1\n",
    "ProdAllowed2 = {} \n",
    "for n in range(2, limit):\n",
    "    if n not in SumNotAllowed:\n",
    "        for a in range(2, n//2+1):\n",
    "            p = a * (n-a)\n",
    "            if p in ProdAllowed1 and ProdAllowed1[p] > 1:\n",
    "                if p in ProdAllowed2:\n",
    "                    ProdAllowed2[p] += 1\n",
    "                else:\n",
    "                    ProdAllowed2[p] = 1 \n",
    "\n",
    "\n",
    "# only those P are allowed that can be divided into two numbers a,b where a+b is allowed only in one variant PAllowed2[P]==1    \n",
    "SumAllowed = {}  \n",
    "for n in range(2, limit):\n",
    "    if n not in SumNotAllowed:\n",
    "        for a in range(2, n//2+1):\n",
    "            if a*(n-a) in ProdAllowed2 and ProdAllowed2[a*(n-a)] == 1:\n",
    "                if n in SumAllowed:\n",
    "                    SumAllowed[n] += 1\n",
    "                else:\n",
    "                    SumAllowed[n] = 1\n",
    "\n",
    "\n",
    "# since S now knows the answer, the division can be performed in only one way S, where SAllowed2[S]==1\n",
    "for n in SumAllowed: \n",
    "    if SumAllowed[n] == 1:\n",
    "        for a in range(2, n//2+1):\n",
    "            if a*(n-a) in ProdAllowed2 and ProdAllowed2[a*(n-a)] == 1:\n",
    "                print (\"Sum = %d\\nProd = %d\\na = %d\\nb = %d\" % (n, a*(n-a), a, n-a))\n",
    "\n"
   ]
  }
 ],
 "metadata": {
  "kernelspec": {
   "display_name": "Python 3",
   "language": "python",
   "name": "python3"
  },
  "language_info": {
   "codemirror_mode": {
    "name": "ipython",
    "version": 3
   },
   "file_extension": ".py",
   "mimetype": "text/x-python",
   "name": "python",
   "nbconvert_exporter": "python",
   "pygments_lexer": "ipython3",
   "version": "3.12.0"
  }
 },
 "nbformat": 4,
 "nbformat_minor": 2
}
